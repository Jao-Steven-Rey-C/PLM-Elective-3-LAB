{
  "nbformat": 4,
  "nbformat_minor": 0,
  "metadata": {
    "colab": {
      "provenance": [],
      "authorship_tag": "ABX9TyNFU5WoCNP/Mfy0B8ljF1Pm",
      "include_colab_link": true
    },
    "kernelspec": {
      "name": "python3",
      "display_name": "Python 3"
    },
    "language_info": {
      "name": "python"
    }
  },
  "cells": [
    {
      "cell_type": "markdown",
      "metadata": {
        "id": "view-in-github",
        "colab_type": "text"
      },
      "source": [
        "<a href=\"https://colab.research.google.com/github/Jao-Steven-Rey-C/PLM-Elective-3-LAB/blob/main/Python_Fundamentals.ipynb\" target=\"_parent\"><img src=\"https://colab.research.google.com/assets/colab-badge.svg\" alt=\"Open In Colab\"/></a>"
      ]
    },
    {
      "cell_type": "markdown",
      "source": [
        "# Python Fundamentals\n",
        "\n",
        "Python is a popular programming language invented by Guido van Rossum in the year, 1991.\n",
        "\n",
        "It is used for:\n",
        "1. Web Development\n",
        "2. Software Development\n",
        "3. Math\n",
        "4. System scripting\n",
        "\n",
        "Why choose Python?\n",
        "1. It works on different OSes.\n",
        "2. Syntax is similar to spoken English.\n",
        "3. Less lines of code required.\n",
        "4. It runs on an interpreter system.\n",
        "5. Can be treated procedurally, object-orientally, or functionally.\n",
        "\n",
        "The latest Python as of 10/5/2020 is Python 3.9."
      ],
      "metadata": {
        "id": "99NqIMo2hMvi"
      }
    },
    {
      "cell_type": "code",
      "execution_count": null,
      "metadata": {
        "id": "XTO5SLFafgC2",
        "colab": {
          "base_uri": "https://localhost:8080/"
        },
        "outputId": "487d4e6a-8367-48fb-bb50-0c0a1615ed61"
      },
      "outputs": [
        {
          "output_type": "stream",
          "name": "stdout",
          "text": [
            "Five is greater than 2\n"
          ]
        }
      ],
      "source": [
        "#Python indentation. The space before a line of code is called \"indentation\".\n",
        "if 5>2:\n",
        "    print(\"Five is greater than 2\")"
      ]
    },
    {
      "cell_type": "markdown",
      "source": [
        "#Variable Naming Conventions​\n",
        "\n",
        "myvar = \"John“​ #This is Correct\n",
        "\n",
        "2myvar = \"John“​ #This is Wrong\n",
        "\n",
        "_my_var = \"John“​ #This is Correct\n",
        "\n",
        "myVar = \"John“​ #This is Correct\n",
        "\n",
        "my var = \"John\" #This is Wrong"
      ],
      "metadata": {
        "id": "xjD5BpnmiDn5"
      }
    },
    {
      "cell_type": "code",
      "source": [
        "#This is a comment\n",
        "print (\"Hello World!\")"
      ],
      "metadata": {
        "colab": {
          "base_uri": "https://localhost:8080/"
        },
        "id": "sbXZvBT0kwWY",
        "outputId": "47e60ccb-3157-4462-b25b-b9dde0a9d2ac"
      },
      "execution_count": null,
      "outputs": [
        {
          "output_type": "stream",
          "name": "stdout",
          "text": [
            "Hello World!\n"
          ]
        }
      ]
    },
    {
      "cell_type": "code",
      "source": [
        "##Python Variable​\n",
        "x = 1\n",
        "a, b = 0, -1\n",
        "a, b = 8, 9\n",
        "d = \"Sally\" #This is a type of string.\n",
        "print(a) #Variable Will output latest value it is assigned to.\n",
        "print(b)\n",
        "print(d)"
      ],
      "metadata": {
        "colab": {
          "base_uri": "https://localhost:8080/"
        },
        "id": "KK0PYhl0lBmx",
        "outputId": "eb501160-49ae-4587-c18f-e4cb1ca307c8"
      },
      "execution_count": null,
      "outputs": [
        {
          "output_type": "stream",
          "name": "stdout",
          "text": [
            "8\n",
            "9\n",
            "Sally\n"
          ]
        }
      ]
    },
    {
      "cell_type": "code",
      "source": [
        "#Casting\n",
        "d= \"sally\" #This is a type of string​\n",
        "d=int(4)\n",
        "print(d)"
      ],
      "metadata": {
        "colab": {
          "base_uri": "https://localhost:8080/"
        },
        "id": "DQYIRM3Xl3KT",
        "outputId": "7f1f4a3b-7bc8-41c1-defd-fb690f8eff09"
      },
      "execution_count": null,
      "outputs": [
        {
          "output_type": "stream",
          "name": "stdout",
          "text": [
            "4\n"
          ]
        }
      ]
    },
    {
      "cell_type": "code",
      "source": [
        "#Type() Function\n",
        "type_a = 5\n",
        "type_b = \"John\"\n",
        "print(type(type_a))\n",
        "print(type(type_b))"
      ],
      "metadata": {
        "colab": {
          "base_uri": "https://localhost:8080/"
        },
        "id": "cjf0pFzjmRw6",
        "outputId": "e6f20b5c-7296-4ba5-9917-274e9fd75299"
      },
      "execution_count": null,
      "outputs": [
        {
          "output_type": "stream",
          "name": "stdout",
          "text": [
            "<class 'int'>\n",
            "<class 'str'>\n"
          ]
        }
      ]
    },
    {
      "cell_type": "code",
      "source": [
        "#DOuble quote or single quote can be used for string\n",
        "m = 'John'\n",
        "M = \"John\"\n",
        "print(m)\n",
        "print(M)"
      ],
      "metadata": {
        "colab": {
          "base_uri": "https://localhost:8080/"
        },
        "id": "FLpxK8sUm2_j",
        "outputId": "9b9e3bc6-fda0-457e-c03c-b23975d41285"
      },
      "execution_count": null,
      "outputs": [
        {
          "output_type": "stream",
          "name": "stdout",
          "text": [
            "John\n",
            "John\n"
          ]
        }
      ]
    },
    {
      "cell_type": "code",
      "source": [
        "# Case sensitive\n",
        "v = 4\n",
        "V = \"Sally\"\n",
        "# V will not overwrite v\n",
        "print(v)\n",
        "print(V)"
      ],
      "metadata": {
        "colab": {
          "base_uri": "https://localhost:8080/"
        },
        "id": "UuWOAbK0m28Y",
        "outputId": "a08b0b2a-3e3e-42ce-91af-e4df46313d4b"
      },
      "execution_count": null,
      "outputs": [
        {
          "output_type": "stream",
          "name": "stdout",
          "text": [
            "4\n",
            "Sally\n"
          ]
        }
      ]
    },
    {
      "cell_type": "code",
      "source": [
        "#Multiple Variables​\n",
        "x, y, z = \"one\", \"two\", \"three\"\n",
        "print(x)\n",
        "print(y)\n",
        "print(z)"
      ],
      "metadata": {
        "colab": {
          "base_uri": "https://localhost:8080/"
        },
        "id": "zHSCl_4doU1k",
        "outputId": "907b29bd-813d-4740-a798-ac51f47a82f0"
      },
      "execution_count": null,
      "outputs": [
        {
          "output_type": "stream",
          "name": "stdout",
          "text": [
            "one\n",
            "two\n",
            "three\n"
          ]
        }
      ]
    },
    {
      "cell_type": "code",
      "source": [
        "#One Value to Multiple Variables\n",
        "x_a = y_a = z_a = \"four\"\n",
        "print(x_a)\n",
        "print(y_a)\n",
        "print(z_a)"
      ],
      "metadata": {
        "colab": {
          "base_uri": "https://localhost:8080/"
        },
        "id": "btb7va7SoxKk",
        "outputId": "999fdadc-7200-4a58-f66d-39d830ae73f4"
      },
      "execution_count": null,
      "outputs": [
        {
          "output_type": "stream",
          "name": "stdout",
          "text": [
            "four\n",
            "four\n",
            "four\n"
          ]
        }
      ]
    },
    {
      "cell_type": "code",
      "source": [
        "#Output Variables​\n",
        "x_b = \"fun\"\n",
        "print (\"Python is \" + x_b)\n",
        "\n",
        "#Other way\n",
        "x_c = \"Python is \"\n",
        "y_b = \"intuitive.\"\n",
        "z_b = x_c + y_b\n",
        "print(z_b)"
      ],
      "metadata": {
        "colab": {
          "base_uri": "https://localhost:8080/"
        },
        "id": "Ywudal-HpGnq",
        "outputId": "ba92c071-2a8a-4a16-a8ca-bf82cca80d63"
      },
      "execution_count": null,
      "outputs": [
        {
          "output_type": "stream",
          "name": "stdout",
          "text": [
            "Python is fun\n",
            "Python is intuitive.\n"
          ]
        }
      ]
    },
    {
      "cell_type": "code",
      "source": [
        "#Arithmetic ops\n",
        "e = 6\n",
        "f = 3\n",
        "print(e + f) #Addition\n",
        "print(e - f) #Subtraction\n",
        "print(e * f) #Multiplication\n",
        "print(e / f) #Division\n",
        "print(e % f) #Modulus\n",
        "print(e ** f) #Exponentiation\n",
        "print(e // f) #Floor Division\n",
        "sum = e+f\n",
        "print(sum)"
      ],
      "metadata": {
        "colab": {
          "base_uri": "https://localhost:8080/"
        },
        "id": "qrNtFPKbrEbv",
        "outputId": "f35dbe64-f2d4-421f-de23-8bbc988b0079"
      },
      "execution_count": null,
      "outputs": [
        {
          "output_type": "stream",
          "name": "stdout",
          "text": [
            "9\n",
            "3\n",
            "18\n",
            "2.0\n",
            "0\n",
            "216\n",
            "2\n",
            "9\n"
          ]
        }
      ]
    },
    {
      "cell_type": "code",
      "source": [
        "#Assignment Ops\n",
        "g,h,i=0,-1, 6\n",
        "i%=3 #Modulus the current value of i by 3\n",
        "i"
      ],
      "metadata": {
        "colab": {
          "base_uri": "https://localhost:8080/"
        },
        "id": "oKSB5IHZrncf",
        "outputId": "164e1eae-39b2-40e1-c909-ddb3d8540b79"
      },
      "execution_count": null,
      "outputs": [
        {
          "output_type": "execute_result",
          "data": {
            "text/plain": [
              "0"
            ]
          },
          "metadata": {},
          "execution_count": 8
        }
      ]
    },
    {
      "cell_type": "code",
      "source": [
        "j,k,l=0,-1,6\n",
        "print(j>k and l>k) #The < and > are Comparison Operators​ while the 'and' is a Logical Operators.\n",
        "print(j==k and l!=k)\n",
        "print(j==k or l!=k)\n",
        "print(not(j==k or l!=k))\n",
        "print(j==k)\n",
        "print(j!=k)"
      ],
      "metadata": {
        "colab": {
          "base_uri": "https://localhost:8080/"
        },
        "id": "ZHeL2hQAr5e9",
        "outputId": "69182cca-bd8f-4ed7-a121-d1460995d9d2"
      },
      "execution_count": 1,
      "outputs": [
        {
          "output_type": "stream",
          "name": "stdout",
          "text": [
            "True\n",
            "False\n",
            "True\n",
            "False\n",
            "False\n",
            "True\n"
          ]
        }
      ]
    },
    {
      "cell_type": "code",
      "source": [
        "#Identity Operators​\n",
        "n,o,p=0,-1,5\n",
        "n is p"
      ],
      "metadata": {
        "colab": {
          "base_uri": "https://localhost:8080/"
        },
        "id": "QBwjegi_sSsM",
        "outputId": "a4e736f6-597c-4a47-b211-8929a8074e55"
      },
      "execution_count": null,
      "outputs": [
        {
          "output_type": "execute_result",
          "data": {
            "text/plain": [
              "False"
            ]
          },
          "metadata": {},
          "execution_count": 12
        }
      ]
    },
    {
      "cell_type": "code",
      "source": [
        "#Bitwise Operators\n",
        "  #10+1=11 ; 1010+0001=1011\n",
        "print(10 | 1) #Bitwise OR\n",
        "print(10 & 1) #Bitwise AND\n",
        "print(10 ^ 1) #Bitwise XOR\n",
        "print(~10) #Bitwise NOT\n",
        "\n",
        "x_d = 1\n",
        "print(x_d>>1) #Bitwise Right Shift\n",
        "print(x_d<<1) #Bitwise Left Shift"
      ],
      "metadata": {
        "colab": {
          "base_uri": "https://localhost:8080/"
        },
        "id": "Zagx2eAKzfd8",
        "outputId": "d0eab0fc-c506-4e44-997e-aedeabefffdc"
      },
      "execution_count": 8,
      "outputs": [
        {
          "output_type": "stream",
          "name": "stdout",
          "text": [
            "11\n",
            "0\n",
            "11\n",
            "-11\n",
            "0\n",
            "2\n"
          ]
        }
      ]
    },
    {
      "cell_type": "markdown",
      "source": [
        "Application 1"
      ],
      "metadata": {
        "id": "_bcr7-ay1QV-"
      }
    },
    {
      "cell_type": "markdown",
      "source": [],
      "metadata": {
        "id": "OIlVeziJ1U1x"
      }
    },
    {
      "cell_type": "code",
      "source": [
        "#Create a Python program that displays your Fullname, Age, and Course and Section.\n",
        "fullname = \"Jao, Steven Rey C.\"\n",
        "age = 20\n",
        "course = \"Elective 3 (LABORATORY)\"\n",
        "section = \"20233 - CPE 0332.1-1 - \"\n",
        "\n",
        "print (\"My name is \" + fullname + \" I am \" + str(age) + \" years old.\")\n",
        "print (\"I am currently enrolled in: \" + section + course + \".\")"
      ],
      "metadata": {
        "colab": {
          "base_uri": "https://localhost:8080/"
        },
        "id": "jLLnwvXR08WL",
        "outputId": "1a03288e-5419-48f7-c82a-397699adacbe"
      },
      "execution_count": 37,
      "outputs": [
        {
          "output_type": "stream",
          "name": "stdout",
          "text": [
            "My name is Jao, Steven Rey C. I am 20 years old.\n",
            "I am currently enrolled in: 20233 - CPE 0332.1-1 - Elective 3 (LABORATORY).\n"
          ]
        }
      ]
    }
  ]
}