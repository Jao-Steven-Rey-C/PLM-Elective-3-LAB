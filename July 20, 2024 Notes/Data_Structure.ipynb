{
  "cells": [
    {
      "cell_type": "markdown",
      "metadata": {
        "id": "view-in-github",
        "colab_type": "text"
      },
      "source": [
        "<a href=\"https://colab.research.google.com/github/Jao-Steven-Rey-C/PLM-Elective-3-LAB/blob/main/Data_Structure.ipynb\" target=\"_parent\"><img src=\"https://colab.research.google.com/assets/colab-badge.svg\" alt=\"Open In Colab\"/></a>"
      ]
    },
    {
      "cell_type": "markdown",
      "metadata": {
        "id": "M5RCkgzgBx2J"
      },
      "source": [
        "# Lists"
      ]
    },
    {
      "cell_type": "code",
      "execution_count": null,
      "metadata": {
        "colab": {
          "base_uri": "https://localhost:8080/"
        },
        "id": "G2hVvLt2ByH5",
        "outputId": "7881d487-6cd5-44f5-bdde-c9ed89d4652b"
      },
      "outputs": [
        {
          "name": "stdout",
          "output_type": "stream",
          "text": [
            "1\n",
            "Hello\n",
            "3.14159\n",
            "3.14159\n",
            "3.14159\n"
          ]
        },
        {
          "data": {
            "text/plain": [
              "7"
            ]
          },
          "execution_count": 25,
          "metadata": {},
          "output_type": "execute_result"
        }
      ],
      "source": [
        "pi = 3.14159\n",
        "varList = [1, 2, 'A', 'B', 'Hello', pi, pi]\n",
        "#print (varList) #Lists allow duplication.\n",
        "print (varList[0]) #Lists start counting at 0.\n",
        "print (varList[4])\n",
        "\n",
        "varList.append('World!') #Extends the list by one variable.\n",
        "print (varList[6])\n",
        "\n",
        "print (varList[5])\n",
        "\n",
        "varList.remove(pi) #Removes certain item from list.\n",
        "print (varList[5])\n",
        "\n",
        "len(varList) #Returns the length of the list.\n"
      ]
    },
    {
      "cell_type": "markdown",
      "metadata": {
        "id": "Gm9dGjyTByaB"
      },
      "source": [
        "# Dictionaries"
      ]
    },
    {
      "cell_type": "code",
      "execution_count": null,
      "metadata": {
        "colab": {
          "base_uri": "https://localhost:8080/"
        },
        "id": "q1NCaW6OBy0y",
        "outputId": "5440dd4e-7393-40f8-ba17-9bd2d83a0c88"
      },
      "outputs": [
        {
          "name": "stdout",
          "output_type": "stream",
          "text": [
            "123\n",
            "abc\n",
            "Hello World!\n",
            "['list_a', 'list_b']\n",
            "list_b\n"
          ]
        },
        {
          "data": {
            "text/plain": [
              "4"
            ]
          },
          "execution_count": 20,
          "metadata": {},
          "output_type": "execute_result"
        }
      ],
      "source": [
        "var = 'Hello World!'\n",
        "varDict = {'first' : 123,\n",
        "           2 : 'abc',\n",
        "           '3' : var,\n",
        "           4 : ['list_a', 'list_b']\n",
        "           }\n",
        "\n",
        "print (varDict['first'])\n",
        "print (varDict[2])\n",
        "print (varDict['3'])\n",
        "print (varDict[4])\n",
        "print (varDict[4][1]) #If you want to use a dictionary that translates to a list.\n",
        "len(varDict)"
      ]
    },
    {
      "cell_type": "code",
      "execution_count": null,
      "metadata": {
        "colab": {
          "base_uri": "https://localhost:8080/"
        },
        "id": "y92zn5NrGCrx",
        "outputId": "38c9fd1b-22c6-49cd-a3be-4c79f26fc42a"
      },
      "outputs": [
        {
          "name": "stdout",
          "output_type": "stream",
          "text": [
            "12\n"
          ]
        }
      ],
      "source": [
        "#Student  Dictionary\n",
        "studentDict = {'student' : 'name',\n",
        "               'age' : 12,\n",
        "               'bday' : 41281,\n",
        "               'age' : 12\n",
        "               } #Dictionaries don't allow duplications. Unlike lists.\n",
        "\n",
        "print (studentDict['age'])"
      ]
    },
    {
      "cell_type": "markdown",
      "metadata": {
        "id": "YJANvsweHXg6"
      },
      "source": [
        "# Slicing"
      ]
    },
    {
      "cell_type": "code",
      "execution_count": null,
      "metadata": {
        "colab": {
          "base_uri": "https://localhost:8080/"
        },
        "id": "L5lrPDxIHZza",
        "outputId": "6df64b01-8ebb-4542-f42c-f640b17a6de3"
      },
      "outputs": [
        {
          "output_type": "stream",
          "name": "stdout",
          "text": [
            "[1, 2, 3, 4, 5]\n",
            "[6, 7, 8, 9, 10]\n",
            "[1, 2, 3, 4, 5, 6, 7, 8]\n",
            "[9, 10]\n",
            "[3, 4, 5, 6, 7, 8]\n",
            "[3, 5, 7]\n"
          ]
        }
      ],
      "source": [
        "varList = [1, 2, 3, 4, 5, 6, 7, 8, 9, 10]\n",
        "print (varList[:5]) #Start from beginning, end at 5th item (inclusive).\n",
        "print (varList[5:]) #Start from 5 (exclusive), end at end.\n",
        "print (varList[:-2]) #Start from beginning, end at 2 numbers from the end.\n",
        "print (varList[-2:]) #Start at 2nd number from end (inclusive), end at end.\n",
        "print (varList[2:-2]) #Start at 2 (exclusive), end at 2 numbers from the end (exclusive).\n",
        "print (varList[2:8:2]) #Start at 2 (exclusive), end at 8 (inclusive), jump by 2 numbers.\n",
        "\n",
        "#Conclusion: left hand side is exclusive if positive and inclusive if negative. Right side is inclusive if positive and exclusive if negative."
      ]
    }
  ],
  "metadata": {
    "colab": {
      "provenance": [],
      "authorship_tag": "ABX9TyMqArBISMMDeMEpvX1oXNB7",
      "include_colab_link": true
    },
    "kernelspec": {
      "display_name": "Python 3",
      "name": "python3"
    },
    "language_info": {
      "name": "python"
    }
  },
  "nbformat": 4,
  "nbformat_minor": 0
}