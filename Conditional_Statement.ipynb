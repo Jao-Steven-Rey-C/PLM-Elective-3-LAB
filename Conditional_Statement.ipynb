{
  "nbformat": 4,
  "nbformat_minor": 0,
  "metadata": {
    "colab": {
      "provenance": [],
      "authorship_tag": "ABX9TyNqO25YgIP12Zz29AptHVHi",
      "include_colab_link": true
    },
    "kernelspec": {
      "name": "python3",
      "display_name": "Python 3"
    },
    "language_info": {
      "name": "python"
    }
  },
  "cells": [
    {
      "cell_type": "markdown",
      "metadata": {
        "id": "view-in-github",
        "colab_type": "text"
      },
      "source": [
        "<a href=\"https://colab.research.google.com/github/Jao-Steven-Rey-C/PLM-Elective-3-LAB/blob/main/Conditional_Statement.ipynb\" target=\"_parent\"><img src=\"https://colab.research.google.com/assets/colab-badge.svg\" alt=\"Open In Colab\"/></a>"
      ]
    },
    {
      "cell_type": "markdown",
      "source": [
        "**1. If Statement**"
      ],
      "metadata": {
        "id": "nxBoWZZAAtFJ"
      }
    },
    {
      "cell_type": "code",
      "execution_count": 1,
      "metadata": {
        "colab": {
          "base_uri": "https://localhost:8080/"
        },
        "id": "eCKvo0cnAkO8",
        "outputId": "017705c5-365c-44f5-9d32-893442d37bf8"
      },
      "outputs": [
        {
          "output_type": "stream",
          "name": "stdout",
          "text": [
            "b is greater than a\n"
          ]
        }
      ],
      "source": [
        "a = 12\n",
        "b = 100\n",
        "if b > a:\n",
        "  print(\"b is greater than a\")"
      ]
    },
    {
      "cell_type": "markdown",
      "source": [
        "**2. Elif Statement**"
      ],
      "metadata": {
        "id": "vMRn7-QIA_Ea"
      }
    },
    {
      "cell_type": "code",
      "source": [
        "print (\"Enter your age:\")\n",
        "age = int(input())\n",
        "if age >= 18:\n",
        "  print(\"You can get a license\")\n",
        "elif age < 18:\n",
        "  print(\"You can't get a license\")"
      ],
      "metadata": {
        "colab": {
          "base_uri": "https://localhost:8080/"
        },
        "id": "HX0EoSmQA_gU",
        "outputId": "78cab0c1-e67a-4b6b-a94f-09524803b1f5"
      },
      "execution_count": 23,
      "outputs": [
        {
          "output_type": "stream",
          "name": "stdout",
          "text": [
            "Enter your age:\n",
            "5\n",
            "You can't get a license\n"
          ]
        }
      ]
    },
    {
      "cell_type": "markdown",
      "source": [
        "**3. Else Statement**"
      ],
      "metadata": {
        "id": "rhhilPSxBVbj"
      }
    },
    {
      "cell_type": "code",
      "source": [
        "print (\"Enter a number:\")\n",
        "number = int(input())\n",
        "if number > 0:\n",
        "  print(\"Number is positive\")\n",
        "elif number < 0:\n",
        "  print(\"Number is negative\")\n",
        "else:\n",
        "  print(\"Number is zero\")"
      ],
      "metadata": {
        "colab": {
          "base_uri": "https://localhost:8080/"
        },
        "id": "uUScloU1BV9y",
        "outputId": "a50ed96b-b493-495a-c0c4-d2b833466d15"
      },
      "execution_count": 22,
      "outputs": [
        {
          "output_type": "stream",
          "name": "stdout",
          "text": [
            "Enter a number:\n",
            "0\n",
            "Number is zero\n"
          ]
        }
      ]
    },
    {
      "cell_type": "markdown",
      "source": [
        "**4. Short Hand If Statement**"
      ],
      "metadata": {
        "id": "YZfifEn-Bq3H"
      }
    },
    {
      "cell_type": "code",
      "source": [
        "if a<b: print(\"a is less than b\")"
      ],
      "metadata": {
        "colab": {
          "base_uri": "https://localhost:8080/"
        },
        "id": "j6deFpgSBuMQ",
        "outputId": "f3b9ffbe-c4b2-4dfb-b5d7-bfe538b928eb"
      },
      "execution_count": 25,
      "outputs": [
        {
          "output_type": "stream",
          "name": "stdout",
          "text": [
            "a is less than b\n"
          ]
        }
      ]
    },
    {
      "cell_type": "markdown",
      "source": [
        "**5. Short Hand If..Else Statement**"
      ],
      "metadata": {
        "id": "PzGvomu9DDSd"
      }
    },
    {
      "cell_type": "code",
      "source": [
        "g = 2\n",
        "h = 330\n",
        "print(\"g is greater than h\") if g > h else print(\"h is greater than g\")"
      ],
      "metadata": {
        "colab": {
          "base_uri": "https://localhost:8080/"
        },
        "id": "ZVvdTv5QDDtS",
        "outputId": "7492e41e-4e05-4633-ce65-d6a8365a7515"
      },
      "execution_count": 26,
      "outputs": [
        {
          "output_type": "stream",
          "name": "stdout",
          "text": [
            "h is greater\n"
          ]
        }
      ]
    },
    {
      "cell_type": "markdown",
      "source": [
        "**And-both conditions are true**"
      ],
      "metadata": {
        "id": "eQbeWIC6DYGu"
      }
    },
    {
      "cell_type": "code",
      "source": [
        "i = 200\n",
        "j = 33\n",
        "k = 500\n",
        "if i > j and k > j:\n",
        "  print(\"Both conditions are True\")"
      ],
      "metadata": {
        "colab": {
          "base_uri": "https://localhost:8080/"
        },
        "id": "U5VzkLDsDkD6",
        "outputId": "de30f841-f2e6-481a-ff34-e7ecfcc00f0e"
      },
      "execution_count": 15,
      "outputs": [
        {
          "output_type": "stream",
          "name": "stdout",
          "text": [
            "Both conditions are True\n"
          ]
        }
      ]
    },
    {
      "cell_type": "markdown",
      "source": [
        "**Or-at least one of the conditions is true**"
      ],
      "metadata": {
        "id": "YkHgxMpfF5fu"
      }
    },
    {
      "cell_type": "code",
      "source": [
        "l = 200\n",
        "m = 33\n",
        "n = 500\n",
        "if l > m or l > n:\n",
        "  print(\"At least one of the conditions is True\")"
      ],
      "metadata": {
        "colab": {
          "base_uri": "https://localhost:8080/"
        },
        "id": "GIbsZjqnF4ae",
        "outputId": "43e975f1-5f37-40f6-ca94-41ea6d2af356"
      },
      "execution_count": 35,
      "outputs": [
        {
          "output_type": "stream",
          "name": "stdout",
          "text": [
            "At least one of the conditions is True\n"
          ]
        }
      ]
    },
    {
      "cell_type": "markdown",
      "source": [
        "**Nested if**"
      ],
      "metadata": {
        "id": "x1ippKTpGTb2"
      }
    },
    {
      "cell_type": "code",
      "source": [
        "print (\"Enter number\")\n",
        "number_a = int(input())\n",
        "if number_a > 10:\n",
        "  print(\"Number is above 10\")\n",
        "  if number_a > 20:\n",
        "    print(\"and 20.\")\n",
        "  else:\n",
        "    print(\"but not 20.\")"
      ],
      "metadata": {
        "colab": {
          "base_uri": "https://localhost:8080/"
        },
        "id": "x3IfOUTPGTxZ",
        "outputId": "f03bf597-952c-46c4-8d09-82114c717c58"
      },
      "execution_count": 36,
      "outputs": [
        {
          "output_type": "stream",
          "name": "stdout",
          "text": [
            "Enter number\n",
            "11\n",
            "Number is above 10\n",
            "but not 20.\n"
          ]
        }
      ]
    },
    {
      "cell_type": "code",
      "source": [
        "print(\"Enter number:\")\n",
        "x = int(input())\n",
        "if x > 10:\n",
        "  print(\"Above ten,\")\n",
        "  if x > 20:\n",
        "    print(\"and also above 20\")\n",
        "    if x > 30:\n",
        "      print(\"and also above 30\")\n",
        "      if x > 40:\n",
        "        print(\"and also above 40\")\n",
        "        if x > 50:\n",
        "          print(\"and also above 50\")\n",
        "        else:\n",
        "          print(\"but not above 50.\")\n",
        "      else:\n",
        "        print(\"but not above 40.\")\n",
        "    else:\n",
        "      print(\"but not above 30.\")\n",
        "  else:\n",
        "    print(\"but not above 20.\")\n",
        "else:\n",
        "  print(\"Not above 10.\")"
      ],
      "metadata": {
        "colab": {
          "base_uri": "https://localhost:8080/"
        },
        "id": "EUnYBk-oJG5x",
        "outputId": "c86f7443-7097-4d5e-c257-93198b06c17b"
      },
      "execution_count": 46,
      "outputs": [
        {
          "output_type": "stream",
          "name": "stdout",
          "text": [
            "Enter number:\n",
            "56\n",
            "Above ten,\n",
            "and also above 20\n",
            "and also above 30\n",
            "and also above 40\n",
            "and also above 50\n"
          ]
        }
      ]
    },
    {
      "cell_type": "markdown",
      "source": [
        "**Example 3**"
      ],
      "metadata": {
        "id": "-VHWI6wXK7PN"
      }
    },
    {
      "cell_type": "code",
      "source": [
        "print (\"Enter grade:\")\n",
        "grade = float(input())\n",
        "if 100 >= grade >= 75: print(\"Passed\")\n",
        "elif 75 > grade >= 74: print(\"Remedial\")\n",
        "elif 74 > grade >= 0: print(\"Failed\")\n",
        "else: print(\"Input not accepted. Please try again.\")"
      ],
      "metadata": {
        "colab": {
          "base_uri": "https://localhost:8080/"
        },
        "id": "oQ2H2mAHK9qB",
        "outputId": "c8aa3a45-a70d-4094-af34-a61a3b4e443f"
      },
      "execution_count": 91,
      "outputs": [
        {
          "output_type": "stream",
          "name": "stdout",
          "text": [
            "Enter grade:\n",
            "-8\n",
            "Input not accepted. Please try again.\n"
          ]
        }
      ]
    }
  ]
}